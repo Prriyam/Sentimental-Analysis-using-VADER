{
 "cells": [
  {
   "cell_type": "code",
   "execution_count": 1,
   "metadata": {},
   "outputs": [],
   "source": [
    "# Import spaCy and load the language library. Remember to use a larger model!\n",
    "\n",
    "import spacy\n",
    "nlp = spacy.load('en_core_web_lg')\n"
   ]
  },
  {
   "cell_type": "code",
   "execution_count": 2,
   "metadata": {},
   "outputs": [
    {
     "name": "stdout",
     "output_type": "stream",
     "text": [
      "The vector for the word brother is: \n",
      " [-1.6475e+00 -2.1285e+00 -4.0365e+00  1.8707e-01  2.1167e+00  1.4877e+00\n",
      "  2.4295e+00  3.4454e+00 -1.3696e-01 -4.4779e-01  2.7963e+00  2.9844e+00\n",
      " -2.4964e+00  4.8219e+00  2.1571e+00  3.2335e-01  9.3327e-01 -2.0250e+00\n",
      "  1.0523e+00  1.9114e+00 -1.4020e+00 -4.1751e-01  3.1886e-01 -3.5941e-01\n",
      "  2.2323e+00 -3.8004e+00 -1.4344e+00  9.3319e-01  2.7904e+00 -3.8652e+00\n",
      " -3.8322e-01  2.2156e+00 -7.2161e-01  1.6745e+00 -6.9538e-01 -1.3137e+00\n",
      " -2.4953e+00  1.6149e+00 -3.8702e+00 -2.7965e+00 -4.2018e-01 -2.0717e+00\n",
      "  1.9071e+00  5.8867e-01  2.9311e+00 -2.9691e-01 -1.9235e+00  1.6514e+00\n",
      " -2.5090e+00  3.4802e+00 -2.7380e-01  2.1078e+00  2.5933e+00 -1.8707e+00\n",
      "  1.2686e+00 -3.0205e+00  2.1976e+00 -2.4138e+00  2.4798e+00 -1.1279e+00\n",
      " -1.2259e+00 -3.9621e+00 -4.9553e-01  4.6540e-01  5.9605e+00  1.1409e+00\n",
      "  6.8439e-01 -3.3901e+00  5.6154e+00  1.9935e+00  5.8882e+00  7.4743e-01\n",
      "  1.5646e+00 -1.9910e+00 -1.5197e-01  1.7223e+00 -4.7001e+00  5.5704e+00\n",
      "  3.4556e-01 -3.9026e-01 -3.9574e+00 -3.4335e+00 -1.5955e-01  3.6761e+00\n",
      "  1.0726e+00 -6.9169e-01 -1.1838e-01 -2.1643e+00 -3.6175e+00 -5.1162e+00\n",
      " -1.8767e+00  5.4731e-02 -2.1343e-01 -2.5404e+00 -2.5051e+00  2.2332e-01\n",
      " -9.5317e-01  3.0412e+00  4.1152e+00 -1.6462e-01  4.5016e+00 -1.0638e+00\n",
      "  1.7381e+00 -1.3362e+00  1.4401e-01 -1.1353e+00 -1.2198e+00  3.0459e+00\n",
      "  4.8115e+00 -4.0842e+00  1.9570e+00  3.1940e+00  2.2475e+00  1.9630e+00\n",
      "  3.8292e+00  2.0952e-01 -3.2720e-01  9.3438e-03  1.2687e+00 -2.4332e+00\n",
      "  1.4972e-01 -4.7073e+00 -1.7146e+00 -1.9075e+00 -7.1401e-01  1.5370e+00\n",
      "  3.5384e+00 -4.6147e-01  5.3495e+00  6.2184e-01 -2.5196e+00 -1.1595e+00\n",
      "  4.3195e+00 -6.5642e-01  1.5119e+00 -2.5784e+00  2.2716e-01  2.0856e+00\n",
      "  5.5985e+00 -2.0754e+00 -4.2408e+00  6.7752e-01  1.2756e+00  1.1340e+00\n",
      " -2.4288e-01 -1.9917e+00 -6.5620e+00  9.7929e-01  1.4759e+00 -1.3533e+00\n",
      "  3.6112e+00  2.4523e-01  3.8281e+00  2.6657e+00 -4.3028e+00 -6.3284e-01\n",
      "  9.0906e-01 -4.2675e-02 -4.6053e+00 -4.7184e+00 -2.2606e+00 -1.0243e+01\n",
      " -5.6575e-01  1.5621e+00 -3.5287e+00 -2.7279e+00 -2.7837e-01  2.7253e+00\n",
      "  1.4460e-01 -3.4529e-01  4.8367e+00 -1.2011e+00  8.9577e-01 -1.5814e-01\n",
      "  4.1088e+00 -8.2010e-01  2.2473e-01  3.1031e-01 -1.1725e+00 -2.6237e+00\n",
      "  2.8239e+00 -3.7469e+00  3.9051e+00  1.4205e+00  3.5080e+00  1.6467e+00\n",
      " -1.9706e+00 -2.6565e-01  5.2692e-02  4.2602e+00  1.9821e+00  1.4245e-01\n",
      " -2.0647e+00  8.7413e-01  1.8665e+00 -9.3424e-02 -2.4710e+00  1.2601e+00\n",
      "  2.2481e+00  1.2504e+00  4.6210e+00  9.4647e-01 -4.0165e+00 -9.2284e-01\n",
      " -8.5488e-01 -1.5982e+00  3.4601e-01 -6.3394e-01 -7.0837e+00 -1.9820e+00\n",
      " -1.2681e+00 -1.4555e+00  2.5589e+00  3.2733e+00 -6.0855e-01 -1.1668e+00\n",
      "  1.2506e+00 -1.2472e+00 -1.3932e+00 -1.2613e-01  3.9831e-01  2.8930e-01\n",
      "  2.9145e+00  4.0191e+00 -2.3523e+00  2.4426e+00 -7.4643e-01  4.2142e+00\n",
      "  5.7124e-01  1.7547e+00 -5.8445e-01 -1.9850e+00 -4.2990e+00 -8.4726e-01\n",
      "  3.4856e+00  1.4221e+00 -5.3441e+00  1.1726e+00 -2.6527e+00 -2.4769e+00\n",
      " -3.2399e+00  5.4628e+00  1.8936e+00  1.8555e+00  2.1469e+00 -2.8826e+00\n",
      " -1.4093e+00  3.5074e+00  3.3653e+00  1.2487e-01 -1.6477e+00 -3.5034e+00\n",
      " -1.6397e+00  1.6854e+00  2.0745e-02 -3.5768e+00 -6.5773e-01 -6.4534e-01\n",
      " -5.3412e-01  1.5882e+00  1.5590e+00 -4.0958e-01 -4.7282e-02 -8.9344e-01\n",
      "  1.8368e-01 -4.5941e-01  4.5158e+00 -1.0854e+00 -2.1030e+00 -1.8978e+00\n",
      "  2.0291e+00 -1.7087e+00 -1.6501e+00  2.0176e-01  1.8469e-01  2.0811e-02\n",
      "  4.6586e+00 -4.5121e+00  3.5737e+00  3.8372e+00 -3.8536e+00 -5.8180e-02\n",
      "  7.0525e+00  4.2366e+00  5.3742e+00 -5.0470e+00 -2.2875e+00  2.2380e+00\n",
      " -7.0053e+00 -1.5979e+00  2.5402e+00 -4.5809e+00 -3.5153e+00 -2.1994e+00\n",
      " -4.2704e+00 -7.0428e-01  4.4552e-01  3.2031e+00 -2.5016e+00  2.3489e-03]\n",
      "\n",
      "The vector for the word sister is: \n",
      " [ 1.2432e+00 -5.5354e-01 -3.2768e+00 -2.1956e+00  2.5042e+00  1.1997e+00\n",
      " -5.4315e-01  2.2128e+00  8.0826e-01  2.8238e+00  1.5798e+00  1.1793e+00\n",
      " -1.2171e+00  4.3407e+00  5.4796e-01 -2.7179e-01 -2.7216e+00 -1.7654e+00\n",
      "  4.5443e-01  1.0010e+00 -3.0049e+00  4.3733e-03  1.1540e+00  4.1504e-02\n",
      "  1.5084e+00 -2.6137e+00 -2.7872e+00  2.2105e+00  1.2487e+00 -5.0077e+00\n",
      "  1.3753e-01  1.6835e+00 -2.4966e-01  1.0414e+00 -2.0931e+00 -1.3393e+00\n",
      " -3.7034e+00 -1.6992e-01 -5.3172e+00 -7.2633e-03 -1.3423e+00 -2.6065e+00\n",
      "  1.8797e+00  9.6012e-01  4.1337e+00 -5.0118e-01 -1.0621e+00  1.4531e+00\n",
      " -9.8622e-01  3.1836e+00 -4.6099e-01  4.8641e-01  1.7705e-01 -1.9356e+00\n",
      "  1.9781e+00 -3.7246e+00 -1.2333e+00 -3.9395e+00  4.2150e+00 -8.9298e-02\n",
      "  2.7334e-01 -2.1119e+00  5.7450e-01  2.8295e+00  3.7590e+00  3.9739e-01\n",
      "  5.1050e-01 -2.8858e+00  6.1826e+00  1.7643e+00  3.9373e+00  4.8964e-01\n",
      "  1.4097e+00 -7.9786e-01 -1.1024e+00  1.8621e+00 -6.1795e-01  3.6494e+00\n",
      "  1.5986e+00 -2.1051e-01 -3.7889e+00 -3.6652e+00 -2.3098e-01  1.8587e-01\n",
      "  1.8972e+00 -2.6211e+00  6.0811e-01 -2.6122e+00 -4.2813e+00 -6.1327e+00\n",
      " -3.9751e-01  1.4784e+00 -4.6875e-01 -2.8150e+00 -5.0244e+00  2.1987e+00\n",
      "  7.8507e-01  2.3673e+00  2.9891e+00 -1.1595e+00  4.6111e+00  2.4409e+00\n",
      " -1.2932e+00 -1.2720e-01  4.1913e-01 -2.1751e+00  1.0317e+00  4.1855e+00\n",
      "  4.2398e+00 -2.6271e+00  1.6414e+00  3.4060e+00  2.1139e+00  1.6611e+00\n",
      "  6.2767e+00 -1.8204e+00 -1.0411e-01 -2.4366e+00  8.0747e-02 -5.6250e+00\n",
      "  6.2174e-01 -2.4278e+00  4.4418e-01  2.9305e-01 -8.0955e-01  2.4982e+00\n",
      "  1.4277e+00  2.0132e+00  3.4178e+00  1.9107e-01 -3.6364e+00 -2.7748e+00\n",
      "  1.7258e+00 -8.1668e-01  9.6437e-01 -1.4179e+00  1.9258e+00  1.6074e-01\n",
      "  4.9264e+00  3.6497e-01 -2.4985e+00  1.6215e+00  2.3683e+00  1.4917e+00\n",
      "  1.6651e-01 -2.2233e+00 -3.9268e+00  8.0098e-01  3.5889e+00  1.9647e-02\n",
      "  3.6559e+00  9.2164e-01  3.9312e+00  2.3925e+00 -5.1638e+00 -1.9619e+00\n",
      " -4.0545e-03  7.0543e-03 -1.9802e+00 -4.0894e+00 -2.3876e+00 -9.7899e+00\n",
      " -4.2381e+00  9.7819e-01 -4.7565e+00 -3.0452e+00  2.2993e+00  1.9327e+00\n",
      "  6.0299e-01 -1.2219e+00  3.5109e+00 -2.4672e+00  9.6591e-02  6.9943e-01\n",
      "  3.8350e+00 -2.4129e+00 -1.2870e+00 -4.4143e-01  1.0482e+00 -1.1342e+00\n",
      "  4.1901e+00  7.4013e-02  4.9549e+00  9.4575e-01  8.7311e-01  2.0945e+00\n",
      " -2.4788e+00  3.6856e-01  5.5901e-01  3.7006e+00  2.6707e+00 -1.1726e+00\n",
      " -3.7828e+00 -5.2283e-01  1.9509e+00 -1.6764e+00 -1.4648e+00  2.4499e+00\n",
      "  1.4154e+00 -5.9637e-01  4.7000e+00 -1.5243e+00 -1.4833e+00 -1.2444e+00\n",
      " -2.1397e+00 -2.5615e+00  2.0009e+00  1.3769e+00 -6.0672e+00 -1.4992e+00\n",
      "  1.0404e+00 -2.6546e+00  2.2593e+00  2.1007e+00 -1.4138e+00 -2.7272e+00\n",
      " -3.8905e-01 -1.7299e+00 -1.9206e+00 -2.6133e-01  1.4464e+00 -3.0628e+00\n",
      "  1.4785e+00  4.6669e+00 -5.5420e+00  2.0420e+00 -8.2822e-01 -5.1683e-01\n",
      " -1.7555e-01  1.6827e+00 -1.0616e+00 -1.2386e+00 -5.0577e+00 -2.3181e+00\n",
      "  1.4848e+00  2.6167e+00 -3.6880e+00  1.6149e+00  6.4750e-01 -8.5027e-01\n",
      " -4.6442e+00  4.2622e+00  2.1637e+00  1.0586e+00  3.8684e+00 -1.1121e+00\n",
      " -3.6780e+00  2.0070e+00  2.6956e+00  1.6739e+00 -8.7066e-01 -2.6448e+00\n",
      "  1.0554e+00  7.6706e-01 -2.1443e+00 -4.4860e+00 -6.6333e-01 -1.4664e-01\n",
      " -1.3188e+00  4.6992e-01  1.0662e+00 -1.9200e+00  1.8979e-01 -1.8989e+00\n",
      " -1.4260e-01 -1.8399e+00  2.7414e+00 -9.2285e-01 -3.4094e+00 -8.7039e-01\n",
      "  1.3868e+00 -1.1217e+00 -2.6420e+00 -1.6722e+00 -1.1543e+00 -8.0940e-01\n",
      "  9.4199e-01 -5.3503e+00  4.5061e+00  3.0901e+00 -1.3356e+00 -3.8800e-01\n",
      "  4.9447e+00  2.7003e+00  3.6342e+00 -4.7221e+00 -1.5815e+00  2.6081e+00\n",
      " -3.7212e+00 -3.1777e+00  2.0800e+00 -1.2981e+00 -3.5580e+00 -2.1237e+00\n",
      " -3.6981e+00 -1.6292e-01  1.5678e+00  3.1944e+00 -2.1893e+00  6.5193e-01]\n",
      "\n",
      "The vector for the word uncle is: \n",
      " [-7.3539e-01 -1.1832e+00 -3.0625e+00 -2.3620e+00  6.0792e-01  7.1429e-01\n",
      "  1.7586e+00  2.4532e+00  1.1985e+00  3.8212e+00  3.1556e+00 -1.6607e-01\n",
      "  1.3905e-01  4.3487e+00  2.1696e+00  3.7936e-01  1.1514e-02 -7.0173e-01\n",
      " -5.3968e-01  6.4020e-01 -2.7976e+00 -2.4128e+00  2.0171e+00 -6.9868e-01\n",
      "  5.7425e-01 -5.7967e-01 -2.0692e+00 -1.6914e-01 -2.7064e-01 -1.1653e+00\n",
      "  2.5439e-01  2.1979e+00 -1.9243e+00  4.7939e+00 -9.5576e-01 -7.3245e-01\n",
      " -1.5442e+00  1.4797e+00 -1.5151e+00 -2.5135e+00 -2.3556e+00 -4.1748e-02\n",
      "  1.2290e+00  5.7613e-01  1.8893e+00 -8.9145e-01 -1.9670e+00  1.4330e+00\n",
      " -3.6663e+00  2.2024e+00 -2.8674e+00 -1.7011e+00  3.1420e+00  2.0016e+00\n",
      " -5.8879e-01 -2.8884e+00  1.9054e+00 -4.8661e+00  1.0819e+00 -5.6570e-01\n",
      " -1.0562e+00 -3.4837e+00  2.2349e+00  6.6513e-01  5.2601e-01 -1.5565e-02\n",
      "  4.4207e+00 -2.2474e+00  3.1798e+00 -5.5019e-01  2.0018e+00  3.9272e-01\n",
      "  2.1779e+00 -1.0345e+00  2.7539e-01  1.2571e+00 -2.8543e+00  1.0593e+00\n",
      "  1.5818e+00 -1.4620e-01  2.3054e-01  1.3168e+00 -2.3979e+00  1.6137e+00\n",
      " -9.9166e-01 -1.1481e+00  2.2347e-01  2.0947e+00 -3.0823e+00 -5.5878e+00\n",
      " -1.3959e+00 -1.5353e+00  5.3326e-01  3.3764e-01  4.3236e-01  4.5406e-01\n",
      " -2.1851e+00  1.7183e+00  3.7301e+00 -1.9034e+00  1.9612e+00 -2.6530e+00\n",
      "  6.4241e-01 -3.3552e+00 -9.2390e-01 -3.4571e+00 -7.0163e-01  4.4923e+00\n",
      "  3.4373e+00 -7.5622e-01 -8.8409e-01  2.0473e+00  7.9485e-01  1.2014e+00\n",
      "  2.1090e+00  3.0038e-01  1.9767e+00 -5.7992e-01  2.5065e+00 -1.1257e+00\n",
      "  5.5055e-01 -2.8801e+00 -4.2036e+00  4.3091e-01  1.8840e+00  4.8899e+00\n",
      "  3.9454e+00  6.7122e-01  6.0059e-01  1.8515e+00  1.2486e-01  3.1547e-01\n",
      "  1.4830e+00 -2.3080e+00  3.8387e+00 -9.7742e-01  6.1679e-01  3.0363e+00\n",
      "  5.0037e+00 -1.2605e+00 -5.1207e+00  1.0537e+00  3.3860e+00  1.8855e+00\n",
      " -1.7958e+00 -2.8522e-01 -2.5146e+00  1.3124e+00 -1.5337e+00 -3.7797e+00\n",
      "  2.9609e+00 -9.2209e-02  4.2692e+00  2.8856e+00 -2.5464e+00  1.5325e+00\n",
      " -1.4348e+00  1.5233e+00 -3.8470e+00 -3.8649e+00  5.0471e-01 -6.7124e+00\n",
      " -1.4546e+00  1.7428e+00 -4.3108e+00 -9.6850e-01  1.6806e+00  1.2894e+00\n",
      " -1.5928e+00  4.8795e-01  4.8929e+00 -2.2385e+00 -1.3351e+00 -1.3836e+00\n",
      "  3.9694e+00 -4.7377e+00 -2.5492e-01  1.9827e+00 -7.0515e-01 -1.2223e+00\n",
      "  2.8673e+00  5.0929e-02  2.3571e+00  2.2346e+00  3.6152e+00  8.8448e-02\n",
      "  1.2120e+00 -3.5367e-01 -1.2238e+00  3.6489e+00  1.8539e+00 -8.9769e-01\n",
      " -4.2951e+00  2.0709e+00 -1.8924e+00 -9.9759e-01  2.0638e+00  3.0539e+00\n",
      "  1.0977e+00  1.1911e+00  1.6215e+00  7.9072e-01 -1.6319e+00  2.1974e+00\n",
      " -2.4165e+00 -3.7307e+00  2.2173e+00 -2.5775e-01 -5.2810e+00 -1.7393e+00\n",
      " -3.1114e+00 -9.8732e-01  4.9409e+00  2.7005e+00 -2.0329e+00 -3.1365e+00\n",
      " -3.8890e+00  1.3352e+00  5.5502e-03 -3.1008e-01  7.1155e-02 -3.8956e+00\n",
      "  5.4362e-01  1.5065e+00  1.3001e+00  2.4841e+00  6.3524e-01  2.0632e+00\n",
      " -1.8621e+00  1.0728e+00 -4.6546e+00 -8.8657e-01 -5.4693e+00  6.3853e-01\n",
      " -1.3790e+00  1.7602e+00 -4.3253e+00 -5.7224e-01 -2.1549e+00 -2.6100e+00\n",
      " -1.8474e+00  3.7911e+00  7.3321e-01  1.4659e+00  2.7324e-01 -2.5157e+00\n",
      "  2.9118e+00  2.8593e+00  2.8044e+00 -2.1536e+00 -1.2186e+00 -2.5499e+00\n",
      " -1.9999e+00  1.1879e+00  6.1131e-01 -2.6922e+00 -1.2362e+00  4.3980e-01\n",
      "  1.3534e-01 -3.3545e-02  3.3937e+00 -2.8652e+00 -1.4739e+00 -2.1185e+00\n",
      " -1.5281e+00  2.7950e+00  4.6233e+00 -1.0860e+00  3.3825e-01  7.0787e-01\n",
      "  8.2346e-01 -2.3537e+00 -2.7120e+00 -1.6890e+00  7.3511e-02 -7.5604e-01\n",
      "  3.4523e+00 -2.3361e+00  2.6720e+00  2.3999e+00 -3.1523e+00 -1.1617e+00\n",
      "  3.2527e+00  2.8607e+00  4.0046e+00 -3.4941e+00 -1.5266e+00  2.9829e+00\n",
      " -2.6141e+00 -1.8294e+00  1.8483e+00 -1.9892e+00 -3.2558e-01 -3.9622e+00\n",
      " -3.9602e+00 -1.5558e+00 -9.0821e-01  4.2854e+00 -1.2863e+00  1.3571e-01]\n"
     ]
    }
   ],
   "source": [
    "# Choose the words you wish to compare, and obtain their vectors\n",
    "\n",
    "word_1 = nlp.vocab['brother'].vector\n",
    "word_2 = nlp.vocab['sister'].vector\n",
    "word_3 = nlp.vocab['uncle'].vector\n",
    "\n",
    "print('The vector for the word brother is: \\n',word_1)\n",
    "print('\\nThe vector for the word sister is: \\n',word_2)\n",
    "print('\\nThe vector for the word uncle is: \\n',word_3)\n"
   ]
  },
  {
   "cell_type": "code",
   "execution_count": 3,
   "metadata": {},
   "outputs": [],
   "source": [
    "# Import spatial and define a cosine_similarity function\n",
    "\n",
    "from scipy import spatial\n",
    "cosine_similarity = lambda x, y: 1 - spatial.distance.cosine(x, y)\n"
   ]
  },
  {
   "cell_type": "code",
   "execution_count": 4,
   "metadata": {},
   "outputs": [],
   "source": [
    "# Write an expression for vector arithmetic\n",
    "# For example: new_vector = word1 - word2 + word3\n",
    "\n",
    "new_vector = word_1-word_2+word_3"
   ]
  },
  {
   "cell_type": "code",
   "execution_count": 5,
   "metadata": {},
   "outputs": [],
   "source": [
    "# Now we find the closest vector in the vocabulary to the result of \"man\" - \"woman\" + \"queen\"\n",
    "\n",
    "computed_similarities = []\n",
    "\n",
    "for word in nlp.vocab:\n",
    "    # Ignore words without vectors and mixed-case words:\n",
    "    if word.has_vector:\n",
    "        if word.is_lower:\n",
    "            if word.is_alpha:\n",
    "                similarity = cosine_similarity(new_vector, word.vector)\n",
    "                computed_similarities.append((word, similarity))\n",
    "computed_similarities = sorted(computed_similarities, key=lambda item: -item[1])\n"
   ]
  },
  {
   "cell_type": "code",
   "execution_count": 6,
   "metadata": {},
   "outputs": [
    {
     "name": "stdout",
     "output_type": "stream",
     "text": [
      "['uncle', 'brother', 'he', 'sister', 'who', 'was', 'had', 'havin', 'when', 'you']\n"
     ]
    }
   ],
   "source": [
    "# List the top ten closest vectors in the vocabulary to the result of the expression above\n",
    "\n",
    "print([w[0].text for w in computed_similarities[:10]])"
   ]
  },
  {
   "cell_type": "markdown",
   "metadata": {},
   "source": [
    "#### CHALLENGE: Write a function that takes in 3 strings, performs a-b+c arithmetic, and returns a top-ten result"
   ]
  },
  {
   "cell_type": "code",
   "execution_count": 7,
   "metadata": {},
   "outputs": [],
   "source": [
    "def vector_math(a,b,c):\n",
    "    word1 = nlp.vocab[a].vector\n",
    "    word2 = nlp.vocab[b].vector\n",
    "    word3 = nlp.vocab[c].vector\n",
    "    new_vector = word1-word2+word3\n",
    "    computed_similarities = []\n",
    "    for word in nlp.vocab:\n",
    "    # Ignore words without vectors and mixed-case words:\n",
    "        if word.has_vector:\n",
    "            if word.is_lower:\n",
    "                if word.is_alpha:\n",
    "                    similarity = cosine_similarity(new_vector, word.vector)\n",
    "                    computed_similarities.append((word, similarity))\n",
    "    computed_similarities = sorted(computed_similarities, key=lambda item: -item[1])\n",
    "    print([w[0].text for w in computed_similarities[:10]])"
   ]
  },
  {
   "cell_type": "code",
   "execution_count": 8,
   "metadata": {},
   "outputs": [
    {
     "name": "stdout",
     "output_type": "stream",
     "text": [
      "['king', 'and', 'brother', 'that', 'sister', 'where', 'she', 'they', 'woman', 'there']\n"
     ]
    }
   ],
   "source": [
    "# Test the function on known words:\n",
    "vector_math('king','man','woman')"
   ]
  },
  {
   "cell_type": "markdown",
   "metadata": {},
   "source": [
    "## Task #2: Perform VADER Sentiment Analysis on your own review\n",
    "Write code that returns a set of SentimentIntensityAnalyzer polarity scores based on your own written review."
   ]
  },
  {
   "cell_type": "code",
   "execution_count": 9,
   "metadata": {},
   "outputs": [
    {
     "name": "stderr",
     "output_type": "stream",
     "text": [
      "[nltk_data] Downloading package vader_lexicon to\n",
      "[nltk_data]     C:\\Users\\HP\\AppData\\Roaming\\nltk_data...\n",
      "[nltk_data]   Package vader_lexicon is already up-to-date!\n"
     ]
    }
   ],
   "source": [
    "# Import SentimentIntensityAnalyzer and create an sid object\n",
    "\n",
    "import nltk\n",
    "nltk.download('vader_lexicon')\n",
    "from nltk.sentiment.vader import SentimentIntensityAnalyzer\n",
    "sid = SentimentIntensityAnalyzer()\n"
   ]
  },
  {
   "cell_type": "code",
   "execution_count": 10,
   "metadata": {},
   "outputs": [],
   "source": [
    "# Write a review as one continuous string (multiple sentences are ok)\n",
    "review = 'This was such an Amazing Movie'"
   ]
  },
  {
   "cell_type": "code",
   "execution_count": 11,
   "metadata": {},
   "outputs": [
    {
     "data": {
      "text/plain": [
       "{'neg': 0.0, 'neu': 0.568, 'pos': 0.432, 'compound': 0.5859}"
      ]
     },
     "execution_count": 11,
     "metadata": {},
     "output_type": "execute_result"
    }
   ],
   "source": [
    "# Obtain the sid scores for your review\n",
    "sid.polarity_scores(review)"
   ]
  },
  {
   "cell_type": "markdown",
   "metadata": {},
   "source": [
    "### CHALLENGE: Write a function that takes in a review and returns a score of \"Positive\", \"Negative\" or \"Neutral\""
   ]
  },
  {
   "cell_type": "code",
   "execution_count": 12,
   "metadata": {},
   "outputs": [],
   "source": [
    "def review_rating(string):\n",
    "    sid = SentimentIntensityAnalyzer()\n",
    "    if(sid.polarity_scores(review)['compound']>=0.5):\n",
    "        print(\"Positive\")\n",
    "    elif(sid.polarity_scores(review)['compound']>-0.5):\n",
    "        print(\"Neutral\")\n",
    "    else:\n",
    "        print(\"Negative\")    "
   ]
  },
  {
   "cell_type": "code",
   "execution_count": 13,
   "metadata": {},
   "outputs": [
    {
     "name": "stdout",
     "output_type": "stream",
     "text": [
      "Positive\n"
     ]
    }
   ],
   "source": [
    "# Test the function on your review above:\n",
    "review_rating(review)"
   ]
  }
 ],
 "metadata": {
  "kernelspec": {
   "display_name": "Python 3 (ipykernel)",
   "language": "python",
   "name": "python3"
  },
  "language_info": {
   "codemirror_mode": {
    "name": "ipython",
    "version": 3
   },
   "file_extension": ".py",
   "mimetype": "text/x-python",
   "name": "python",
   "nbconvert_exporter": "python",
   "pygments_lexer": "ipython3",
   "version": "3.11.4"
  }
 },
 "nbformat": 4,
 "nbformat_minor": 4
}
